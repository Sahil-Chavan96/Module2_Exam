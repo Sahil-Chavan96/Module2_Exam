{
  "nbformat": 4,
  "nbformat_minor": 0,
  "metadata": {
    "colab": {
      "name": "ModuleEndexam",
      "provenance": []
    },
    "kernelspec": {
      "name": "python3",
      "display_name": "Python 3"
    },
    "language_info": {
      "name": "python"
    }
  },
  "cells": [
    {
      "cell_type": "markdown",
      "source": [
        "Q.1) Convert given hrs & mins in second"
      ],
      "metadata": {
        "id": "w1Jkv_VTmTca"
      }
    },
    {
      "cell_type": "code",
      "execution_count": 4,
      "metadata": {
        "colab": {
          "base_uri": "https://localhost:8080/"
        },
        "id": "R3Voci_vhJji",
        "outputId": "78b558c9-de8d-49d6-af2d-9700cac3f76e"
      },
      "outputs": [
        {
          "output_type": "stream",
          "name": "stdout",
          "text": [
            "Enter Hour value:1\n",
            "Enter minutes value:20\n",
            "Enter seconds value:30\n",
            "total seconds are 4830\n"
          ]
        }
      ],
      "source": [
        "hour=int(input(\"Enter Hour value:\"))*3600\n",
        "minutes=int(input(\"Enter minutes value:\"))*60\n",
        "seconds=int(input(\"Enter seconds value:\"))\n",
        "time=hour+minutes+seconds\n",
        "print(\"total seconds are\",time)"
      ]
    },
    {
      "cell_type": "markdown",
      "source": [
        "Read file & count numbers of digit\n",
        "alphabets & symbols"
      ],
      "metadata": {
        "id": "w90ikORdpicf"
      }
    },
    {
      "cell_type": "code",
      "source": [
        "a=input(\"Enter a string\")\n",
        "d=l=s=0\n",
        "for c in a:\n",
        "  if c.isdigit():\n",
        "    d+=1\n",
        "  elif c.isalpha():\n",
        "    l+=1\n",
        "  else:\n",
        "    pass\n",
        "  print(\"Digits\",d)\n",
        "  print(\"Letters\",l)\n",
        "\n"
      ],
      "metadata": {
        "colab": {
          "base_uri": "https://localhost:8080/"
        },
        "id": "TAGKwh0FnKO7",
        "outputId": "7fd3e065-9d07-46cf-acc3-79b09ab610a6"
      },
      "execution_count": 39,
      "outputs": [
        {
          "output_type": "stream",
          "name": "stdout",
          "text": [
            "Enter a stringsahil1996\n",
            "Digits 0\n",
            "Letters 1\n",
            "Digits 0\n",
            "Letters 2\n",
            "Digits 0\n",
            "Letters 3\n",
            "Digits 0\n",
            "Letters 4\n",
            "Digits 0\n",
            "Letters 5\n",
            "Digits 1\n",
            "Letters 5\n",
            "Digits 2\n",
            "Letters 5\n",
            "Digits 3\n",
            "Letters 5\n",
            "Digits 4\n",
            "Letters 5\n"
          ]
        }
      ]
    },
    {
      "cell_type": "markdown",
      "source": [
        "Create class"
      ],
      "metadata": {
        "id": "9Iy3rVsyqbJH"
      }
    },
    {
      "cell_type": "code",
      "source": [
        "class Math:\n",
        "  def __init__(self,a,b):\n",
        "    self.a=a\n",
        "    self.b=b\n",
        "  def Add(self):\n",
        "    return self.a+self.b\n",
        "  def Division(self):\n",
        "    return self.a/self.b\n",
        "  def Subtraction(self):\n",
        "    return self.a-self.b\n",
        "  def Multiplication(self):\n",
        "    return self.a*self.b\n"
      ],
      "metadata": {
        "id": "YVBBjVfdqMW2"
      },
      "execution_count": 14,
      "outputs": []
    },
    {
      "cell_type": "code",
      "source": [
        "a=Math(10,5)\n"
      ],
      "metadata": {
        "id": "DwpX3CWcqb_D"
      },
      "execution_count": 21,
      "outputs": []
    },
    {
      "cell_type": "code",
      "source": [
        "print(a.Add())\n",
        "print(a.Division())\n",
        "print(a.Subtraction())\n",
        "print(a.Multiplication())"
      ],
      "metadata": {
        "colab": {
          "base_uri": "https://localhost:8080/"
        },
        "id": "pfXg-DTcsIT2",
        "outputId": "43fb08ab-1688-4018-9449-4034ffd46b6b"
      },
      "execution_count": 23,
      "outputs": [
        {
          "output_type": "stream",
          "name": "stdout",
          "text": [
            "15\n",
            "2.0\n",
            "5\n",
            "50\n"
          ]
        }
      ]
    },
    {
      "cell_type": "markdown",
      "source": [
        "Convert Paise in Rupees &\n",
        "Paises"
      ],
      "metadata": {
        "id": "TBO7QR28yWjx"
      }
    },
    {
      "cell_type": "code",
      "source": [
        "p=int(input(\"Enter paisas\"))\n",
        "rs=0\n",
        "rs=p/100\n",
        "print(p,\"paisa is\",rs,\"rupees\")"
      ],
      "metadata": {
        "colab": {
          "base_uri": "https://localhost:8080/"
        },
        "id": "ajLyeStLsO3t",
        "outputId": "b66b3a08-e349-4014-92bc-16a53c2bf0e8"
      },
      "execution_count": 28,
      "outputs": [
        {
          "output_type": "stream",
          "name": "stdout",
          "text": [
            "Enter paisas1000\n",
            "1000 paisa is 10.0 rupees\n"
          ]
        }
      ]
    },
    {
      "cell_type": "markdown",
      "source": [
        "Print\n",
        "1\n",
        "0 1\n",
        "0 1 0\n",
        "1 0 1 0\n",
        "1 0 1 0 1"
      ],
      "metadata": {
        "id": "eJBeVFA5zjVX"
      }
    },
    {
      "cell_type": "code",
      "source": [
        "for i in range(1,6):\n",
        "  for j in range(1,i+1):\n",
        "    print(j%2,end=' ')\n",
        "  print()"
      ],
      "metadata": {
        "colab": {
          "base_uri": "https://localhost:8080/"
        },
        "id": "f3UdrOFZy_4r",
        "outputId": "3ef37bba-8d47-41d7-91ed-cb621537db57"
      },
      "execution_count": 37,
      "outputs": [
        {
          "output_type": "stream",
          "name": "stdout",
          "text": [
            "1 \n",
            "1 0 \n",
            "1 0 1 \n",
            "1 0 1 0 \n",
            "1 0 1 0 1 \n"
          ]
        }
      ]
    },
    {
      "cell_type": "markdown",
      "source": [
        "Print\n",
        "1\n",
        "3 3\n",
        "5 5 5\n",
        "6 6 6 6\n",
        "7 7 7 7 7"
      ],
      "metadata": {
        "id": "9y6lNbS60cjW"
      }
    },
    {
      "cell_type": "code",
      "source": [
        "for i in range(1,6,2):\n",
        "  for j in range(0,i+1,2):\n",
        "    print(i,end='')\n",
        "  print()\n",
        "for k in range(6,8):\n",
        "  for j in range(1,k-1):\n",
        "    print(k,end='')\n",
        "  print()"
      ],
      "metadata": {
        "colab": {
          "base_uri": "https://localhost:8080/"
        },
        "id": "FpZ-sR1Qzdza",
        "outputId": "b4f8bcbb-fa07-44fd-c3b3-728ae3a8b529"
      },
      "execution_count": 33,
      "outputs": [
        {
          "output_type": "stream",
          "name": "stdout",
          "text": [
            "1\n",
            "33\n",
            "555\n",
            "6666\n",
            "77777\n"
          ]
        }
      ]
    },
    {
      "cell_type": "code",
      "source": [
        ""
      ],
      "metadata": {
        "id": "4-Sr3dwO0PXC"
      },
      "execution_count": null,
      "outputs": []
    }
  ]
}